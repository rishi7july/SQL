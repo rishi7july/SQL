{
 "cells": [
  {
   "cell_type": "markdown",
   "id": "27214f0a",
   "metadata": {},
   "source": [
    "# What is SQL "
   ]
  },
  {
   "cell_type": "markdown",
   "id": "0e5c6787",
   "metadata": {},
   "source": [
    "The full form is structured query language . It is a language designed for organising data in ralational databases ."
   ]
  },
  {
   "cell_type": "markdown",
   "id": "89982ad9",
   "metadata": {},
   "source": [
    "It allows users to do a lot of functionalities \n",
    "\n",
    "- Data Creation\n",
    "\n",
    "- Data Insertion \n",
    "\n",
    "- Data Querying \n",
    "\n",
    "- Data Updation \n",
    "\n",
    "- Deletion Data \n",
    "\n",
    " "
   ]
  },
  {
   "cell_type": "markdown",
   "id": "a8bfc6a4",
   "metadata": {},
   "source": [
    "# Data Querying "
   ]
  },
  {
   "cell_type": "markdown",
   "id": "45d45911",
   "metadata": {},
   "source": [
    "It is retrieving results from a database "
   ]
  },
  {
   "cell_type": "markdown",
   "id": "46646e40",
   "metadata": {},
   "source": [
    "# Demonstration in Python "
   ]
  },
  {
   "cell_type": "markdown",
   "id": "6ed40a04",
   "metadata": {},
   "source": [
    "There are many libraries in python that can help you perform SQL operations . Some of them are \n",
    "\n",
    "\n",
    "- sqlite \n",
    "\n",
    "- mysql -conncetor \n",
    "\n",
    "- Sql Alchemy "
   ]
  },
  {
   "cell_type": "markdown",
   "id": "f7d5d422",
   "metadata": {},
   "source": [
    "# Step 1 : Import the libraries "
   ]
  },
  {
   "cell_type": "code",
   "execution_count": 4,
   "id": "db4b403b",
   "metadata": {},
   "outputs": [
    {
     "name": "stderr",
     "output_type": "stream",
     "text": [
      "/Users/rishi/opt/anaconda3/lib/python3.9/site-packages/pandas/core/computation/expressions.py:21: UserWarning: Pandas requires version '2.8.4' or newer of 'numexpr' (version '2.8.1' currently installed).\n",
      "  from pandas.core.computation.check import NUMEXPR_INSTALLED\n",
      "/Users/rishi/opt/anaconda3/lib/python3.9/site-packages/pandas/core/arrays/masked.py:60: UserWarning: Pandas requires version '1.3.6' or newer of 'bottleneck' (version '1.3.4' currently installed).\n",
      "  from pandas.core import (\n"
     ]
    }
   ],
   "source": [
    "import sqlite3\n",
    "import pandas as pd"
   ]
  },
  {
   "cell_type": "markdown",
   "id": "4ea2bef6",
   "metadata": {},
   "source": [
    "# Step 2 : Create a connection to a Database "
   ]
  },
  {
   "cell_type": "code",
   "execution_count": 27,
   "id": "f3fe535f",
   "metadata": {},
   "outputs": [],
   "source": [
    "conn = sqlite3.connect('mydatabase.db') # Creating a database in the for m of a file \n",
    "#conn = sqlite3.connect(':memory:')\n",
    "cursor = conn.cursor()"
   ]
  },
  {
   "cell_type": "markdown",
   "id": "7a18fc8b",
   "metadata": {},
   "source": [
    "# Step 3 : Creating a Table "
   ]
  },
  {
   "cell_type": "code",
   "execution_count": 8,
   "id": "1e9c527d",
   "metadata": {},
   "outputs": [
    {
     "data": {
      "text/plain": [
       "<sqlite3.Cursor at 0x7f8ca6943880>"
      ]
     },
     "execution_count": 8,
     "metadata": {},
     "output_type": "execute_result"
    }
   ],
   "source": [
    "cursor.execute('''\n",
    "CREATE TABLE Employees(\n",
    "id INTEGER , \n",
    "name TEXT , \n",
    "age INTEGER,\n",
    "position TEXT )\n",
    "''')\n",
    "\n"
   ]
  },
  {
   "cell_type": "code",
   "execution_count": 10,
   "id": "560f9afb",
   "metadata": {},
   "outputs": [],
   "source": [
    "conn.commit() ## Commin is required for assurity of action "
   ]
  },
  {
   "cell_type": "markdown",
   "id": "f083cb6e",
   "metadata": {},
   "source": [
    "# Step 4 - Insert Data into the table "
   ]
  },
  {
   "cell_type": "code",
   "execution_count": 15,
   "id": "e3c53143",
   "metadata": {},
   "outputs": [
    {
     "data": {
      "text/plain": [
       "<sqlite3.Cursor at 0x7f8ca6943880>"
      ]
     },
     "execution_count": 15,
     "metadata": {},
     "output_type": "execute_result"
    }
   ],
   "source": [
    "cursor.execute('''\n",
    "INSERT INTO Employees(id,name , age , position) VALUES \n",
    "(1, 'John Doe', 30 , 'Manager'), \n",
    "(2,'Jane Smith',25 , 'Analyst'),\n",
    "(3,'Abhay Sharma',40,'Director')''')"
   ]
  },
  {
   "cell_type": "code",
   "execution_count": 16,
   "id": "e7c1fe6b",
   "metadata": {},
   "outputs": [],
   "source": [
    "conn.commit()"
   ]
  },
  {
   "cell_type": "markdown",
   "id": "3aa254cf",
   "metadata": {},
   "source": [
    "# Step 5 : Query the table "
   ]
  },
  {
   "cell_type": "code",
   "execution_count": 17,
   "id": "1bc0fbc0",
   "metadata": {},
   "outputs": [],
   "source": [
    "query = 'Select * from Employees'"
   ]
  },
  {
   "cell_type": "code",
   "execution_count": 18,
   "id": "b9b4d368",
   "metadata": {},
   "outputs": [
    {
     "data": {
      "text/html": [
       "<div>\n",
       "<style scoped>\n",
       "    .dataframe tbody tr th:only-of-type {\n",
       "        vertical-align: middle;\n",
       "    }\n",
       "\n",
       "    .dataframe tbody tr th {\n",
       "        vertical-align: top;\n",
       "    }\n",
       "\n",
       "    .dataframe thead th {\n",
       "        text-align: right;\n",
       "    }\n",
       "</style>\n",
       "<table border=\"1\" class=\"dataframe\">\n",
       "  <thead>\n",
       "    <tr style=\"text-align: right;\">\n",
       "      <th></th>\n",
       "      <th>id</th>\n",
       "      <th>name</th>\n",
       "      <th>age</th>\n",
       "      <th>position</th>\n",
       "    </tr>\n",
       "  </thead>\n",
       "  <tbody>\n",
       "    <tr>\n",
       "      <th>0</th>\n",
       "      <td>1</td>\n",
       "      <td>John Doe</td>\n",
       "      <td>30</td>\n",
       "      <td>Manager</td>\n",
       "    </tr>\n",
       "    <tr>\n",
       "      <th>1</th>\n",
       "      <td>2</td>\n",
       "      <td>Jane Smith</td>\n",
       "      <td>25</td>\n",
       "      <td>Analyst</td>\n",
       "    </tr>\n",
       "    <tr>\n",
       "      <th>2</th>\n",
       "      <td>3</td>\n",
       "      <td>Abhay Sharma</td>\n",
       "      <td>40</td>\n",
       "      <td>Director</td>\n",
       "    </tr>\n",
       "  </tbody>\n",
       "</table>\n",
       "</div>"
      ],
      "text/plain": [
       "   id          name  age  position\n",
       "0   1      John Doe   30   Manager\n",
       "1   2    Jane Smith   25   Analyst\n",
       "2   3  Abhay Sharma   40  Director"
      ]
     },
     "execution_count": 18,
     "metadata": {},
     "output_type": "execute_result"
    }
   ],
   "source": [
    "df = pd.read_sql_query(query,conn)\n",
    "df"
   ]
  },
  {
   "cell_type": "markdown",
   "id": "eb5795e5",
   "metadata": {},
   "source": [
    "# Step 6 : Updation of a Table "
   ]
  },
  {
   "cell_type": "code",
   "execution_count": 20,
   "id": "602a82a5",
   "metadata": {},
   "outputs": [],
   "source": [
    "## Update the age of Jane from 25 to 40 \n",
    "\n",
    "cursor.execute('''\n",
    "UPDATE Employees SET age = 40 WHERE name = 'Jane Smith'\n",
    "''')\n",
    "\n",
    "conn.commit()"
   ]
  },
  {
   "cell_type": "code",
   "execution_count": 21,
   "id": "21ce147a",
   "metadata": {},
   "outputs": [
    {
     "data": {
      "text/html": [
       "<div>\n",
       "<style scoped>\n",
       "    .dataframe tbody tr th:only-of-type {\n",
       "        vertical-align: middle;\n",
       "    }\n",
       "\n",
       "    .dataframe tbody tr th {\n",
       "        vertical-align: top;\n",
       "    }\n",
       "\n",
       "    .dataframe thead th {\n",
       "        text-align: right;\n",
       "    }\n",
       "</style>\n",
       "<table border=\"1\" class=\"dataframe\">\n",
       "  <thead>\n",
       "    <tr style=\"text-align: right;\">\n",
       "      <th></th>\n",
       "      <th>id</th>\n",
       "      <th>name</th>\n",
       "      <th>age</th>\n",
       "      <th>position</th>\n",
       "    </tr>\n",
       "  </thead>\n",
       "  <tbody>\n",
       "    <tr>\n",
       "      <th>0</th>\n",
       "      <td>1</td>\n",
       "      <td>John Doe</td>\n",
       "      <td>30</td>\n",
       "      <td>Manager</td>\n",
       "    </tr>\n",
       "    <tr>\n",
       "      <th>1</th>\n",
       "      <td>2</td>\n",
       "      <td>Jane Smith</td>\n",
       "      <td>40</td>\n",
       "      <td>Analyst</td>\n",
       "    </tr>\n",
       "    <tr>\n",
       "      <th>2</th>\n",
       "      <td>3</td>\n",
       "      <td>Abhay Sharma</td>\n",
       "      <td>40</td>\n",
       "      <td>Director</td>\n",
       "    </tr>\n",
       "  </tbody>\n",
       "</table>\n",
       "</div>"
      ],
      "text/plain": [
       "   id          name  age  position\n",
       "0   1      John Doe   30   Manager\n",
       "1   2    Jane Smith   40   Analyst\n",
       "2   3  Abhay Sharma   40  Director"
      ]
     },
     "execution_count": 21,
     "metadata": {},
     "output_type": "execute_result"
    }
   ],
   "source": [
    "df = pd.read_sql_query(query,conn)\n",
    "df"
   ]
  },
  {
   "cell_type": "markdown",
   "id": "d23cc9d2",
   "metadata": {},
   "source": [
    "# Step 7 : Delete Entries from a Table "
   ]
  },
  {
   "cell_type": "code",
   "execution_count": 22,
   "id": "6b22201d",
   "metadata": {},
   "outputs": [],
   "source": [
    "# Delete an Employee table record . Where name is John Doe \n",
    "\n",
    "cursor.execute('''\n",
    "DELETE FROM Employees Where name = 'John Doe'\n",
    "''')\n",
    "\n",
    "conn.commit()"
   ]
  },
  {
   "cell_type": "code",
   "execution_count": 23,
   "id": "514729ce",
   "metadata": {},
   "outputs": [
    {
     "data": {
      "text/html": [
       "<div>\n",
       "<style scoped>\n",
       "    .dataframe tbody tr th:only-of-type {\n",
       "        vertical-align: middle;\n",
       "    }\n",
       "\n",
       "    .dataframe tbody tr th {\n",
       "        vertical-align: top;\n",
       "    }\n",
       "\n",
       "    .dataframe thead th {\n",
       "        text-align: right;\n",
       "    }\n",
       "</style>\n",
       "<table border=\"1\" class=\"dataframe\">\n",
       "  <thead>\n",
       "    <tr style=\"text-align: right;\">\n",
       "      <th></th>\n",
       "      <th>id</th>\n",
       "      <th>name</th>\n",
       "      <th>age</th>\n",
       "      <th>position</th>\n",
       "    </tr>\n",
       "  </thead>\n",
       "  <tbody>\n",
       "    <tr>\n",
       "      <th>0</th>\n",
       "      <td>2</td>\n",
       "      <td>Jane Smith</td>\n",
       "      <td>40</td>\n",
       "      <td>Analyst</td>\n",
       "    </tr>\n",
       "    <tr>\n",
       "      <th>1</th>\n",
       "      <td>3</td>\n",
       "      <td>Abhay Sharma</td>\n",
       "      <td>40</td>\n",
       "      <td>Director</td>\n",
       "    </tr>\n",
       "  </tbody>\n",
       "</table>\n",
       "</div>"
      ],
      "text/plain": [
       "   id          name  age  position\n",
       "0   2    Jane Smith   40   Analyst\n",
       "1   3  Abhay Sharma   40  Director"
      ]
     },
     "execution_count": 23,
     "metadata": {},
     "output_type": "execute_result"
    }
   ],
   "source": [
    "df = pd.read_sql_query(query,conn)\n",
    "df"
   ]
  },
  {
   "cell_type": "code",
   "execution_count": 25,
   "id": "a46cb40d",
   "metadata": {},
   "outputs": [
    {
     "name": "stdout",
     "output_type": "stream",
     "text": [
      "3.38.2\n"
     ]
    }
   ],
   "source": [
    "import sqlite3\n",
    "print(sqlite3.sqlite_version)"
   ]
  },
  {
   "cell_type": "code",
   "execution_count": null,
   "id": "9b91266f",
   "metadata": {},
   "outputs": [],
   "source": []
  },
  {
   "cell_type": "code",
   "execution_count": null,
   "id": "79caf98c",
   "metadata": {},
   "outputs": [],
   "source": []
  },
  {
   "cell_type": "code",
   "execution_count": null,
   "id": "1439aaf0",
   "metadata": {},
   "outputs": [],
   "source": []
  },
  {
   "cell_type": "code",
   "execution_count": null,
   "id": "59ebe614",
   "metadata": {},
   "outputs": [],
   "source": []
  }
 ],
 "metadata": {
  "kernelspec": {
   "display_name": "Python 3 (ipykernel)",
   "language": "python",
   "name": "python3"
  },
  "language_info": {
   "codemirror_mode": {
    "name": "ipython",
    "version": 3
   },
   "file_extension": ".py",
   "mimetype": "text/x-python",
   "name": "python",
   "nbconvert_exporter": "python",
   "pygments_lexer": "ipython3",
   "version": "3.9.12"
  }
 },
 "nbformat": 4,
 "nbformat_minor": 5
}
