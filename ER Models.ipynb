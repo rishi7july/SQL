{
 "cells": [
  {
   "cell_type": "markdown",
   "id": "fb9e6bec",
   "metadata": {},
   "source": [
    "# ER Models  "
   ]
  },
  {
   "cell_type": "markdown",
   "id": "91cf603e",
   "metadata": {},
   "source": [
    "It is a way to oraganise and store data in a database "
   ]
  },
  {
   "cell_type": "markdown",
   "id": "4c114697",
   "metadata": {},
   "source": [
    "E = Entity \n",
    "\n",
    "R = Relationship "
   ]
  },
  {
   "cell_type": "markdown",
   "id": "4b17e5e7",
   "metadata": {},
   "source": [
    "Question - Design a HR Database . "
   ]
  },
  {
   "cell_type": "markdown",
   "id": "160eddbc",
   "metadata": {},
   "source": [
    "Employees \n",
    "\n",
    "- Name \n",
    "- Address \n",
    "- Id \n",
    "- Department "
   ]
  },
  {
   "cell_type": "markdown",
   "id": "33f966bf",
   "metadata": {},
   "source": [
    "# Entities \n",
    "\n",
    "Entity Employees whereas the Name , Address , Id and Department are Attributes"
   ]
  },
  {
   "cell_type": "markdown",
   "id": "91b55252",
   "metadata": {},
   "source": [
    "Components of ER Diagram "
   ]
  },
  {
   "cell_type": "markdown",
   "id": "5f5bb652",
   "metadata": {},
   "source": [
    "- Entity \n",
    "\n",
    "- Attribute \n",
    "\n",
    "- Relationship "
   ]
  },
  {
   "cell_type": "markdown",
   "id": "78d6ecc6",
   "metadata": {},
   "source": [
    "Entity - Any object , class or componet of data can be considered as entity "
   ]
  },
  {
   "cell_type": "markdown",
   "id": "0cb8db21",
   "metadata": {},
   "source": [
    "- Employee \n",
    "\n",
    "- Department \n",
    "\n",
    "- Organisation "
   ]
  },
  {
   "cell_type": "markdown",
   "id": "3ee402bb",
   "metadata": {},
   "source": [
    "# Attributes "
   ]
  },
  {
   "cell_type": "markdown",
   "id": "3099224d",
   "metadata": {},
   "source": [
    "They are properties of entities "
   ]
  },
  {
   "cell_type": "markdown",
   "id": "0d900d1a",
   "metadata": {},
   "source": [
    "E.g. if Employee is an entity then the attributes would be Name , Address etc "
   ]
  },
  {
   "cell_type": "markdown",
   "id": "9f57c07d",
   "metadata": {},
   "source": [
    "Employee \n",
    "\n",
    "- Id \n",
    "- Department \n",
    "- Age \n",
    "- Address "
   ]
  },
  {
   "cell_type": "markdown",
   "id": "8047b978",
   "metadata": {},
   "source": [
    "In the above example the Id would be a <b> Key Attribute </b> because key attributes can be used to identify entity from group on enteties  "
   ]
  },
  {
   "cell_type": "markdown",
   "id": "5014c1b7",
   "metadata": {},
   "source": [
    "<b> Composite Attributes </b> are the ones that are composed of other attributes "
   ]
  },
  {
   "cell_type": "markdown",
   "id": "b9f5a6c8",
   "metadata": {},
   "source": [
    "Address can be composed of other attributes like - Country , State , Zip Code "
   ]
  },
  {
   "cell_type": "markdown",
   "id": "b3f86d3f",
   "metadata": {},
   "source": [
    "<b> Multivalued Attribute </b> They are the attributes that can be represnted by mutiples values . \n",
    "\n",
    "Like Order Attribute can be represented by Quantity or Payment "
   ]
  },
  {
   "cell_type": "markdown",
   "id": "df4cdbfa",
   "metadata": {},
   "source": [
    "<b> Derived attribued </b> are the ones that can be derived from other attributes . E.g basket size can be serived from Quantity and Orders "
   ]
  },
  {
   "cell_type": "markdown",
   "id": "9d3b9fde",
   "metadata": {},
   "source": [
    "# Relationship "
   ]
  },
  {
   "cell_type": "markdown",
   "id": "2abb65b8",
   "metadata": {},
   "source": [
    "It is used to describe the connection between two or more entities . "
   ]
  },
  {
   "cell_type": "markdown",
   "id": "02d9d28b",
   "metadata": {},
   "source": [
    "- Employee and Department "
   ]
  },
  {
   "cell_type": "markdown",
   "id": "8c6b56c0",
   "metadata": {},
   "source": [
    "The relationship is that Employee <b> Works </b> in a Department "
   ]
  },
  {
   "cell_type": "markdown",
   "id": "866f740a",
   "metadata": {},
   "source": [
    "# Types of relationships "
   ]
  },
  {
   "cell_type": "markdown",
   "id": "f75bee24",
   "metadata": {},
   "source": [
    "- One to one \n",
    "\n",
    "- Many to one \n",
    "\n",
    "- One to Many \n",
    "\n",
    "- Many to Mahy "
   ]
  },
  {
   "cell_type": "markdown",
   "id": "82959e81",
   "metadata": {},
   "source": [
    "One on one would be Emp and Emp ID "
   ]
  },
  {
   "cell_type": "markdown",
   "id": "a14094b9",
   "metadata": {},
   "source": [
    "Customer places many Orders - one to may "
   ]
  },
  {
   "cell_type": "markdown",
   "id": "62f243bc",
   "metadata": {},
   "source": [
    "Employee works in Department - Many to One "
   ]
  },
  {
   "cell_type": "markdown",
   "id": "f3ee62c8",
   "metadata": {},
   "source": [
    "Employess assiged to Projects - Many to many "
   ]
  },
  {
   "cell_type": "markdown",
   "id": "2d67a1a0",
   "metadata": {},
   "source": [
    "# Questions "
   ]
  },
  {
   "cell_type": "markdown",
   "id": "b9520859",
   "metadata": {},
   "source": [
    "Design ER Model for an Ecommerce company . \n",
    "\n",
    "- One salesperson can manage many customers \n",
    "\n",
    "- One customer can be managed only by one salesperson \n",
    "\n",
    "- One customer can place mutiple orders \n",
    "\n",
    "- Each order will belong to single customer \n",
    "\n",
    "- Order lists many projects \n",
    "\n",
    "- A single product can be presnt in mutiple orders \n",
    "\n",
    "- Order data composes of OrderID , OrderDate , noProducts , productNames "
   ]
  },
  {
   "cell_type": "markdown",
   "id": "7516040d",
   "metadata": {},
   "source": [
    "# Identify the Entities , Attributes and Relationships "
   ]
  },
  {
   "cell_type": "markdown",
   "id": "5e9c94c3",
   "metadata": {},
   "source": [
    "The 4 entities are \n",
    "\n",
    "- Salesperson \n",
    "\n",
    "- Customers \n",
    "\n",
    "- Product \n",
    "\n",
    "- Order "
   ]
  },
  {
   "cell_type": "markdown",
   "id": "ad7d2444",
   "metadata": {},
   "source": [
    "For the entity Order the attributes are \n",
    "\n",
    "- orderID \n",
    "- OrderDate \n",
    "- noProducts \n",
    "- productName "
   ]
  },
  {
   "cell_type": "markdown",
   "id": "261266c4",
   "metadata": {},
   "source": [
    "# Identify the relationships "
   ]
  },
  {
   "cell_type": "markdown",
   "id": "91925a76",
   "metadata": {},
   "source": [
    "- Salesperson Manges Customer (1 to M )\n",
    "\n",
    "- Customer Places Order (1 to M)\n",
    "\n",
    "- Order Lists Product ( M to M )\n",
    "\n"
   ]
  },
  {
   "cell_type": "markdown",
   "id": "2fb8aec6",
   "metadata": {},
   "source": [
    "# Draw a ER Model for University Course Management System"
   ]
  },
  {
   "cell_type": "markdown",
   "id": "41d9255a",
   "metadata": {},
   "source": [
    "- Each tudent has unique StudentID , name , email and DoB \n",
    "- Students can enroll in multiple courses , but all student shall take some course \n",
    "- One student can have obe or more proffs \n",
    "\n",
    "\n",
    "- Each Professor has a ID , name , email . \n",
    "- Proff can advise mutile students \n",
    "- They can tech multiple courses \n",
    "\n",
    "\n",
    "\n",
    "- Each course has a CourseID , name and Description \n",
    "- A course have have pre requiseites but not all courses will have this \n",
    "\n",
    "\n",
    "- Each proff belong to a dept and one dept can have multiple proffs \n",
    "- Each dept will have DeptID , Name and Office Location \n"
   ]
  },
  {
   "cell_type": "markdown",
   "id": "fbc164f2",
   "metadata": {},
   "source": [
    "- Build an ER model \n",
    "- Identify the different types of attribures ( multivalued , composite etc )"
   ]
  },
  {
   "cell_type": "markdown",
   "id": "4b33e171",
   "metadata": {},
   "source": [
    "# Entities and the Attributes "
   ]
  },
  {
   "cell_type": "markdown",
   "id": "a626b9ff",
   "metadata": {},
   "source": [
    "Student :\n",
    "- Student_id \n",
    "- name \n",
    "- email \n",
    "- DoB "
   ]
  },
  {
   "cell_type": "markdown",
   "id": "5d02beaa",
   "metadata": {},
   "source": [
    "Professor \n",
    "\n",
    "- professor_id \n",
    "- name \n",
    "- email "
   ]
  },
  {
   "cell_type": "markdown",
   "id": "e2425f1f",
   "metadata": {},
   "source": [
    "Course \n",
    "\n",
    "- course_id \n",
    "- name \n",
    "- description "
   ]
  },
  {
   "cell_type": "markdown",
   "id": "6672dbc7",
   "metadata": {},
   "source": [
    "Department \n",
    "\n",
    "- department_id \n",
    "- name \n",
    "- office_location "
   ]
  },
  {
   "cell_type": "markdown",
   "id": "30538209",
   "metadata": {},
   "source": [
    "Enrollemnt ( weak entity) \n",
    "- studenid_id \n",
    "- course_id \n"
   ]
  },
  {
   "cell_type": "markdown",
   "id": "ab75d74b",
   "metadata": {},
   "source": [
    "# Relationships"
   ]
  },
  {
   "cell_type": "markdown",
   "id": "00a3c23b",
   "metadata": {},
   "source": [
    "Erolls \n",
    "\n",
    "- Student and Course \n",
    "- cardinality - Many to Many "
   ]
  },
  {
   "cell_type": "markdown",
   "id": "2b72d300",
   "metadata": {},
   "source": [
    "Teaches / Mentors \n",
    "\n",
    "- Proff and Student \n",
    "\n",
    "- Many to many "
   ]
  },
  {
   "cell_type": "markdown",
   "id": "f16959b7",
   "metadata": {},
   "source": [
    "Prerequisite ( Course and Course )\n",
    "\n",
    "- Recusive relationship \n",
    "\n",
    "- Cardinality is One to Many \n",
    "\n"
   ]
  },
  {
   "cell_type": "markdown",
   "id": "c485d5bb",
   "metadata": {},
   "source": [
    "Belongs to (Professor and Department ) \n",
    "\n",
    "- Cardinality 1 to Many \n",
    "- A dept can have multiple professors but a prof can have only one dept "
   ]
  },
  {
   "cell_type": "code",
   "execution_count": null,
   "id": "a9871f2c",
   "metadata": {},
   "outputs": [],
   "source": []
  },
  {
   "cell_type": "code",
   "execution_count": null,
   "id": "d4790bcf",
   "metadata": {},
   "outputs": [],
   "source": []
  }
 ],
 "metadata": {
  "kernelspec": {
   "display_name": "Python 3 (ipykernel)",
   "language": "python",
   "name": "python3"
  },
  "language_info": {
   "codemirror_mode": {
    "name": "ipython",
    "version": 3
   },
   "file_extension": ".py",
   "mimetype": "text/x-python",
   "name": "python",
   "nbconvert_exporter": "python",
   "pygments_lexer": "ipython3",
   "version": "3.9.12"
  }
 },
 "nbformat": 4,
 "nbformat_minor": 5
}
