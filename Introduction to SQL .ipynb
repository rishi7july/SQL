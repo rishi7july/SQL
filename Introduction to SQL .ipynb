{
 "cells": [
  {
   "cell_type": "markdown",
   "id": "5e4d5749",
   "metadata": {},
   "source": [
    "# What are Databases "
   ]
  },
  {
   "cell_type": "markdown",
   "id": "6d0f8dcf",
   "metadata": {},
   "source": [
    "Databases are collection of Data . In earlier days it was only structured but now they are also untructured "
   ]
  },
  {
   "cell_type": "markdown",
   "id": "5dc81039",
   "metadata": {},
   "source": [
    "Databases are generally managed by systems that are called DBMS . The full form is  Database Management System "
   ]
  },
  {
   "cell_type": "markdown",
   "id": "ba813f3e",
   "metadata": {},
   "source": [
    "# Types of Databases "
   ]
  },
  {
   "cell_type": "markdown",
   "id": "93b8eb6e",
   "metadata": {},
   "source": [
    "- Relational Databases \n",
    "\n",
    "- NoSQL Databases \n",
    "\n",
    "- Graph Database \n",
    "\n",
    "- Centralized Database \n",
    "\n",
    "- Distributed Database "
   ]
  },
  {
   "cell_type": "markdown",
   "id": "85519f1f",
   "metadata": {},
   "source": [
    "# Relational Databases "
   ]
  },
  {
   "cell_type": "markdown",
   "id": "e3f71ecf",
   "metadata": {},
   "source": [
    "A relational Database is an example where data objects are linked together by pre-defined relationships "
   ]
  },
  {
   "cell_type": "markdown",
   "id": "04a6d827",
   "metadata": {},
   "source": [
    "In a relational database data is structured into tables . "
   ]
  },
  {
   "cell_type": "markdown",
   "id": "3af41b2c",
   "metadata": {},
   "source": [
    "Examples of Relational Databases are - Microsoft SQL Server , MySQL , PostgreSQL "
   ]
  },
  {
   "cell_type": "markdown",
   "id": "ff336384",
   "metadata": {},
   "source": [
    "# NoSQL Databases "
   ]
  },
  {
   "cell_type": "markdown",
   "id": "681684ad",
   "metadata": {},
   "source": [
    "They are non tabular databases that can store data in the form of like - JSON tables - They are further categorzed into databases such as graph database , document database etc . These are designed to be very flexible and scalable "
   ]
  },
  {
   "cell_type": "markdown",
   "id": "51208c56",
   "metadata": {},
   "source": [
    "Examples are - MongoDB , Amazon DynamoDB , Apache HBASE "
   ]
  },
  {
   "cell_type": "markdown",
   "id": "532fef7a",
   "metadata": {},
   "source": [
    "# Graph Database "
   ]
  },
  {
   "cell_type": "markdown",
   "id": "d8396ac4",
   "metadata": {},
   "source": [
    "They are designed for semantic queries with nodes , edges and attributes "
   ]
  },
  {
   "cell_type": "markdown",
   "id": "6b56acf5",
   "metadata": {},
   "source": [
    "Examples - neo4J , Cambridge Semantics "
   ]
  },
  {
   "cell_type": "markdown",
   "id": "232628a3",
   "metadata": {},
   "source": [
    "# Centralized Database "
   ]
  },
  {
   "cell_type": "markdown",
   "id": "9bbe827a",
   "metadata": {},
   "source": [
    "Data is stored at a single location . It can be accessed via LAN etc . \n",
    "\n",
    "\n",
    "Ex = Sql Lite , MySQL , MS SQL Server  "
   ]
  },
  {
   "cell_type": "markdown",
   "id": "402d466e",
   "metadata": {},
   "source": [
    "# Distributed Database "
   ]
  },
  {
   "cell_type": "markdown",
   "id": "42891596",
   "metadata": {},
   "source": [
    "The information is residing at multiple places . HBASE , Amazon Simple DB  "
   ]
  },
  {
   "cell_type": "markdown",
   "id": "f9b4ed21",
   "metadata": {},
   "source": [
    "# Difference between Relational DBMS and DBMS "
   ]
  },
  {
   "cell_type": "markdown",
   "id": "b5a13da4",
   "metadata": {},
   "source": [
    "- DBMS \n",
    "\n",
    "- Stores data as a file \n",
    "\n",
    "- Only supports single user \n",
    "\n",
    "- Stores data that is not related to each other \n",
    "\n",
    "- Directly fetch complex and large volume of data "
   ]
  },
  {
   "cell_type": "markdown",
   "id": "541a618f",
   "metadata": {},
   "source": [
    "- RDBMS \n",
    "\n",
    "- Stores data in form of tables \n",
    "\n",
    "- Supports Multiple Users \n",
    "\n",
    "- Data stored in tables is related via foreign keys \n",
    "\n",
    "- Data Fetching is rapid because of relational approach "
   ]
  },
  {
   "cell_type": "code",
   "execution_count": null,
   "id": "7d148dc0",
   "metadata": {},
   "outputs": [],
   "source": []
  },
  {
   "cell_type": "code",
   "execution_count": null,
   "id": "ede911f0",
   "metadata": {},
   "outputs": [],
   "source": []
  },
  {
   "cell_type": "code",
   "execution_count": null,
   "id": "3a1dfafa",
   "metadata": {},
   "outputs": [],
   "source": []
  },
  {
   "cell_type": "code",
   "execution_count": null,
   "id": "37a0ed55",
   "metadata": {},
   "outputs": [],
   "source": []
  },
  {
   "cell_type": "code",
   "execution_count": null,
   "id": "77367fa4",
   "metadata": {},
   "outputs": [],
   "source": []
  },
  {
   "cell_type": "code",
   "execution_count": null,
   "id": "00a024a7",
   "metadata": {},
   "outputs": [],
   "source": []
  },
  {
   "cell_type": "code",
   "execution_count": null,
   "id": "4d150214",
   "metadata": {},
   "outputs": [],
   "source": []
  },
  {
   "cell_type": "code",
   "execution_count": null,
   "id": "1261f66a",
   "metadata": {},
   "outputs": [],
   "source": []
  },
  {
   "cell_type": "code",
   "execution_count": null,
   "id": "49d14334",
   "metadata": {},
   "outputs": [],
   "source": []
  },
  {
   "cell_type": "code",
   "execution_count": null,
   "id": "3a085848",
   "metadata": {},
   "outputs": [],
   "source": []
  },
  {
   "cell_type": "code",
   "execution_count": null,
   "id": "3252425e",
   "metadata": {},
   "outputs": [],
   "source": []
  },
  {
   "cell_type": "code",
   "execution_count": null,
   "id": "55783f84",
   "metadata": {},
   "outputs": [],
   "source": []
  },
  {
   "cell_type": "code",
   "execution_count": null,
   "id": "d768af57",
   "metadata": {},
   "outputs": [],
   "source": []
  },
  {
   "cell_type": "code",
   "execution_count": null,
   "id": "96d709c2",
   "metadata": {},
   "outputs": [],
   "source": []
  },
  {
   "cell_type": "code",
   "execution_count": null,
   "id": "b5037d60",
   "metadata": {},
   "outputs": [],
   "source": []
  },
  {
   "cell_type": "code",
   "execution_count": null,
   "id": "c376fd43",
   "metadata": {},
   "outputs": [],
   "source": []
  },
  {
   "cell_type": "code",
   "execution_count": null,
   "id": "b78e2fdf",
   "metadata": {},
   "outputs": [],
   "source": []
  },
  {
   "cell_type": "code",
   "execution_count": null,
   "id": "4da723d4",
   "metadata": {},
   "outputs": [],
   "source": []
  },
  {
   "cell_type": "code",
   "execution_count": null,
   "id": "149a50ae",
   "metadata": {},
   "outputs": [],
   "source": []
  },
  {
   "cell_type": "code",
   "execution_count": null,
   "id": "a1f8d62b",
   "metadata": {},
   "outputs": [],
   "source": []
  },
  {
   "cell_type": "code",
   "execution_count": null,
   "id": "5cf63c59",
   "metadata": {},
   "outputs": [],
   "source": []
  },
  {
   "cell_type": "code",
   "execution_count": null,
   "id": "630bc0c1",
   "metadata": {},
   "outputs": [],
   "source": []
  },
  {
   "cell_type": "code",
   "execution_count": null,
   "id": "ea8ce10c",
   "metadata": {},
   "outputs": [],
   "source": []
  },
  {
   "cell_type": "code",
   "execution_count": null,
   "id": "4bbfd88a",
   "metadata": {},
   "outputs": [],
   "source": []
  },
  {
   "cell_type": "code",
   "execution_count": null,
   "id": "a4c9361d",
   "metadata": {},
   "outputs": [],
   "source": []
  },
  {
   "cell_type": "code",
   "execution_count": null,
   "id": "d3d58026",
   "metadata": {},
   "outputs": [],
   "source": []
  },
  {
   "cell_type": "code",
   "execution_count": null,
   "id": "e51192b5",
   "metadata": {},
   "outputs": [],
   "source": []
  },
  {
   "cell_type": "code",
   "execution_count": null,
   "id": "d0f29f2f",
   "metadata": {},
   "outputs": [],
   "source": []
  },
  {
   "cell_type": "code",
   "execution_count": null,
   "id": "69644788",
   "metadata": {},
   "outputs": [],
   "source": []
  },
  {
   "cell_type": "code",
   "execution_count": null,
   "id": "7480a457",
   "metadata": {},
   "outputs": [],
   "source": []
  },
  {
   "cell_type": "code",
   "execution_count": null,
   "id": "59a672e3",
   "metadata": {},
   "outputs": [],
   "source": []
  },
  {
   "cell_type": "code",
   "execution_count": null,
   "id": "c0cdb45d",
   "metadata": {},
   "outputs": [],
   "source": []
  },
  {
   "cell_type": "code",
   "execution_count": null,
   "id": "2d6fdaed",
   "metadata": {},
   "outputs": [],
   "source": []
  },
  {
   "cell_type": "code",
   "execution_count": null,
   "id": "2b0cef33",
   "metadata": {},
   "outputs": [],
   "source": []
  },
  {
   "cell_type": "code",
   "execution_count": null,
   "id": "da8387fc",
   "metadata": {},
   "outputs": [],
   "source": []
  },
  {
   "cell_type": "code",
   "execution_count": null,
   "id": "fa8f8d5d",
   "metadata": {},
   "outputs": [],
   "source": []
  },
  {
   "cell_type": "code",
   "execution_count": null,
   "id": "4cca1d22",
   "metadata": {},
   "outputs": [],
   "source": []
  },
  {
   "cell_type": "code",
   "execution_count": null,
   "id": "e238226b",
   "metadata": {},
   "outputs": [],
   "source": []
  },
  {
   "cell_type": "code",
   "execution_count": null,
   "id": "783305f1",
   "metadata": {},
   "outputs": [],
   "source": []
  },
  {
   "cell_type": "code",
   "execution_count": null,
   "id": "ef268ca7",
   "metadata": {},
   "outputs": [],
   "source": []
  }
 ],
 "metadata": {
  "kernelspec": {
   "display_name": "Python 3 (ipykernel)",
   "language": "python",
   "name": "python3"
  },
  "language_info": {
   "codemirror_mode": {
    "name": "ipython",
    "version": 3
   },
   "file_extension": ".py",
   "mimetype": "text/x-python",
   "name": "python",
   "nbconvert_exporter": "python",
   "pygments_lexer": "ipython3",
   "version": "3.9.12"
  }
 },
 "nbformat": 4,
 "nbformat_minor": 5
}
